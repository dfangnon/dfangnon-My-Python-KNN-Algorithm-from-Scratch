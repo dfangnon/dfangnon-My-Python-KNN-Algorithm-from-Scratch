{
 "cells": [
  {
   "cell_type": "markdown",
   "metadata": {
    "id": "bzhZlACA7we6"
   },
   "source": [
    "\n",
    "# <center> <b> <span style=\"color:orange;\"> Programmation Python pratique </span> </b></center>\n",
    "\n",
    "### <center> <b> <span style=\"color:green;\">Travaux Pratiques</span> </b></center>\n",
    "\n",
    "\n",
    "****\n",
    "\n",
    "## <center> <b> <span style=\"color:blue;\"> Variables, Types et Opérations </span> </b></center>"
   ]
  },
  {
   "cell_type": "markdown",
   "metadata": {
    "id": "PYZXyfWQ7wfI"
   },
   "source": [
    "#### **Exercice 00:**\n",
    "     1. Déclarer une variable `prenom` et lui attribuer une valeur.\n",
    "     2. Déclarer une variable de `nom` de famille et lui attribuer une valeur.\n",
    "     3. Déclarer une variable `nom_complet` et lui attribuer une valeur.\n",
    "     4. Déclarer une variable `pays` et lui attribuer une valeur.\n",
    "     5. Déclarer une variable `ville` et lui attribuer une valeur.\n",
    "     6. Déclarer une variable `age` et lui attribuer une valeur.\n",
    "     7. Déclarer une variable `annee` et lui attribuer une valeur.\n",
    "     8. Déclarer une variable `est_marrie` et lui affecter une valeur.\n",
    "     9. Déclarer une variable `est_true` et lui attribuer une valeur."
   ]
  },
  {
   "cell_type": "code",
   "execution_count": null,
   "metadata": {
    "id": "sX0usV2I7wfJ"
   },
   "outputs": [],
   "source": []
  },
  {
   "cell_type": "markdown",
   "metadata": {
    "id": "fInzzkbU7wfL"
   },
   "source": [
    "#### **Exercice 01:**\n",
    "> **Vérifiez le type de données de toutes vos variables en utilisant la fonction intégrée `type()`.**"
   ]
  },
  {
   "cell_type": "code",
   "execution_count": null,
   "metadata": {
    "id": "PsOQodui7wfN"
   },
   "outputs": [],
   "source": []
  },
  {
   "cell_type": "markdown",
   "metadata": {
    "id": "ahkW7llO7wfO"
   },
   "source": [
    "#### **Exercice 02:**\n",
    "> **Calculez la valeur de $y$ ($y = x^2 + 6x + 9$). Essayez d'utiliser différentes valeurs de $x$ et déterminez à quelle valeur de $x$ pour laquelle $y$ sera égal à 0.**"
   ]
  },
  {
   "cell_type": "code",
   "execution_count": null,
   "metadata": {
    "id": "cAwhae5a7wfP"
   },
   "outputs": [],
   "source": []
  },
  {
   "cell_type": "markdown",
   "metadata": {
    "id": "Aboqc-ya7wfQ"
   },
   "source": [
    "#### **Exercice 03:**\n",
    "     1. Déclarez votre âge comme variable entière\n",
    "     2. Déclarez votre taille en tant que variable flottante\n",
    "     3. Déclarez une variable qui stocke la base et la hauteur d'un triangle. Calculer=z alculer l'aire de ce triangle (aire = 0,5 x b x h)."
   ]
  },
  {
   "cell_type": "code",
   "execution_count": null,
   "metadata": {
    "id": "JVD_nkwK7wfR"
   },
   "outputs": [],
   "source": []
  },
  {
   "cell_type": "markdown",
   "metadata": {
    "id": "4a4aqZ_97wfS"
   },
   "source": [
    "#### **Astuce: recevoir de l'utilisateur une entrée**\n",
    "**Pour recevoir de l'utilisateur une entrée, on utilise `input()`.**\n",
    "\n",
    "**Exemple**\n",
    "Recevoir de l'utilisateur deux nombres en entrée et calculer leur puissance:**\n",
    "```python\n",
    "base = input(\"Entrer a base : \")\n",
    "exposant = input(\"Entrer un exposant : \")\n",
    "resultat = float(base) ** float(exposant)\n",
    "print(f\"{base} à la puissance de {exposant} = {resultat}\")\n",
    "```"
   ]
  },
  {
   "cell_type": "code",
   "execution_count": null,
   "metadata": {
    "id": "OjwMB2Vq7wfT"
   },
   "outputs": [],
   "source": [
    "base = input(\"Entrer a base : \")\n",
    "exposant = input(\"Entrer un exposant : \")\n",
    "resultat = float(base) ** float(exposant)\n",
    "print(f\"{base} à la puissance de {exposant} = {resultat}\")"
   ]
  },
  {
   "cell_type": "markdown",
   "metadata": {
    "id": "fW63IckG7wfU"
   },
   "source": [
    "#### **Exercice 04:**\n",
    "> **Écrivez un petit code qui demande à l'utilisateur d'entrer le côté $a$, le côté $b$ et le côté $c$ d'un triangle. Calculez le périmètre du triangle (périmètre = a + b + c).**"
   ]
  },
  {
   "cell_type": "code",
   "execution_count": null,
   "metadata": {
    "id": "c5yl4LRb7wfV"
   },
   "outputs": [],
   "source": []
  },
  {
   "cell_type": "markdown",
   "metadata": {
    "id": "a2Kyddvb7wfW"
   },
   "source": [
    "#### **Exercice 05:**\n",
    "> **Obtenez la longueur et la largeur d'un rectangle en utilisant l'invite. Calculez son aire (aire = longueur x largeur) et son périmètre (périmètre = 2 x (longueur + largeur)).**"
   ]
  },
  {
   "cell_type": "code",
   "execution_count": null,
   "metadata": {
    "id": "CHvvxsKQ7wfX"
   },
   "outputs": [],
   "source": []
  },
  {
   "cell_type": "markdown",
   "metadata": {
    "id": "7XxjJOYT7wfX"
   },
   "source": [
    "#### **Exercice 06:**\n",
    "> **Obtenez le rayon d'un cercle en utilisant l'invite. Calculez l'aire (aire = pi x r x r) et la circonférence (c = 2 x pi x r) où pi = 3,14.**"
   ]
  },
  {
   "cell_type": "code",
   "execution_count": null,
   "metadata": {
    "id": "VbKkJbH27wfY"
   },
   "outputs": [],
   "source": []
  },
  {
   "cell_type": "markdown",
   "metadata": {
    "id": "P-SI0QGB7wfZ"
   },
   "source": [
    "#### **Exercice 07:**\n",
    "> **Calculez la pente, l'ordonnée à l'origine en x et l'ordonnée à l'origine en $y$ de $y = 2x -2$.**"
   ]
  },
  {
   "cell_type": "code",
   "execution_count": null,
   "metadata": {
    "id": "G8Qpluep7wfb"
   },
   "outputs": [],
   "source": []
  },
  {
   "cell_type": "markdown",
   "metadata": {
    "id": "DqTvucdY7wfh"
   },
   "source": [
    "#### **Exercice 08:**\n",
    "> **Rédigez un script qui demande à l'utilisateur d'entrer les heures et le taux horaire. Calculez la rémunération de la personne ?**"
   ]
  },
  {
   "cell_type": "code",
   "execution_count": null,
   "metadata": {
    "id": "7_WqIxOu7wfi"
   },
   "outputs": [],
   "source": []
  },
  {
   "cell_type": "markdown",
   "metadata": {
    "id": "JgWv8wM87wfj"
   },
   "source": [
    "#### **Exercice 09:**\n",
    "> **Écrivez un script qui demande à l'utilisateur d'entrer le nombre d'années. Calculez le nombre de secondes qu'une personne peut vivre. Supposons qu'une personne puisse vivre cent ans.**"
   ]
  },
  {
   "cell_type": "code",
   "execution_count": null,
   "metadata": {
    "id": "gce9vTjq7wfk"
   },
   "outputs": [],
   "source": []
  },
  {
   "cell_type": "markdown",
   "metadata": {
    "id": "EUsbbQpt7wfk"
   },
   "source": [
    "#### **Exercice 10:**\n",
    "> **Écrivez un script Python qui affiche le tableau suivant**\n",
    "\n",
    "    1 1 1 1 1\n",
    "    \n",
    "    2 1 2 4 8\n",
    "    \n",
    "    3 1 3 9 27\n",
    "    \n",
    "    4 1 4 16 64\n",
    "    \n",
    "    5 1 5 25 125"
   ]
  },
  {
   "cell_type": "code",
   "execution_count": null,
   "metadata": {
    "id": "nbIUkEf67wfk"
   },
   "outputs": [],
   "source": []
  },
  {
   "cell_type": "markdown",
   "metadata": {
    "id": "rRb083YV7wfk"
   },
   "source": [
    "#### **Exercice 11:**\n",
    "> **Affectez les variables `temps`et `distance` par les valeurs $6.892$ et $19.7$. Calculez et affichez la valeur de la vitesse. Améliorez l’affichage en imposant un chiffre après le point décimal.**"
   ]
  },
  {
   "cell_type": "code",
   "execution_count": null,
   "metadata": {
    "id": "dmFJjfPC7wfl"
   },
   "outputs": [],
   "source": []
  },
  {
   "cell_type": "markdown",
   "metadata": {
    "id": "0tn33eS-7wfl"
   },
   "source": [
    "#### **Exercice 12:**\n",
    "> **Écrire un programme qui, à partir de la saisie d’un rayon et d’une hauteur, calcule levolume d’un cône droit.**"
   ]
  },
  {
   "cell_type": "code",
   "execution_count": null,
   "metadata": {
    "id": "zdoouAhT7wfm"
   },
   "outputs": [],
   "source": []
  },
  {
   "cell_type": "markdown",
   "metadata": {
    "id": "wv3dqMGo7wfm"
   },
   "source": [
    "#### **Exercice 13:**\n",
    "> **L’utilisateur donne un entier positif et le programme annonce combien de fois de suitecet entier est divisible par 2.**"
   ]
  },
  {
   "cell_type": "code",
   "execution_count": null,
   "metadata": {
    "id": "zpdGVc697wfm"
   },
   "outputs": [],
   "source": []
  },
  {
   "cell_type": "markdown",
   "metadata": {
    "id": "gFCYneFt7wfn"
   },
   "source": [
    "#### **Exercice 14:**\n",
    ">**L’utilisateur donne un entiernentre 2 et 12, le programme donne le nombre de façonsde fairenen lançant deux dés.**"
   ]
  },
  {
   "cell_type": "code",
   "execution_count": null,
   "metadata": {
    "id": "v8oPwA637wfn"
   },
   "outputs": [],
   "source": []
  },
  {
   "cell_type": "markdown",
   "metadata": {
    "id": "wI4ZmfxR7wfn"
   },
   "source": [
    "#### **Exercice 15:**\n",
    "> **Même problème que le précédent mais avecnentre 3 et 18 et trois dés**"
   ]
  },
  {
   "cell_type": "code",
   "execution_count": null,
   "metadata": {
    "id": "H9QVunzv7wfo"
   },
   "outputs": [],
   "source": []
  },
  {
   "cell_type": "markdown",
   "metadata": {
    "id": "P7vwL-GF7wfo"
   },
   "source": [
    "#### **Exercice 16:**\n",
    ">**Généralisation des deux questions précédentes. L’utilisateur saisit deux entrées, d’une◃◃part le nombre de dés,$nbd$ (que l’on limitera pratiquement à 10), et d’autre part la somme,$s$, comprise entre $nbd$ et $6.nbd$. Le programme calcule et affiche le nombrede façons de faire $s$ avec les $nbd$ dés.**"
   ]
  },
  {
   "cell_type": "code",
   "execution_count": null,
   "metadata": {
    "id": "rlCriyBc7wfp"
   },
   "outputs": [],
   "source": []
  },
  {
   "cell_type": "markdown",
   "metadata": {
    "id": "L2aDtC2q7wfp"
   },
   "source": [
    "#### **Exercice 17:**\n",
    "> **Utilisez la fonction d'entrée intégrée `input()` pour obtenir le _prénom_, le _nom_, le _pays_ et l'_âge_ d'un utilisateur et stockez la valeur dans les noms des variables correspondantes.**"
   ]
  },
  {
   "cell_type": "code",
   "execution_count": null,
   "metadata": {
    "id": "M1mRKuNH7wfp"
   },
   "outputs": [],
   "source": []
  },
  {
   "cell_type": "markdown",
   "metadata": {
    "id": "54-yVSCX7wfs"
   },
   "source": [
    "#### **Exercice 18:**\n",
    "**Déclarer $5$ comme `num_one` et $4$ comme `num_two`**\n",
    "\n",
    "   1. Additionner `num_one` et `num_two` et affecter la valeur à une variable `totale`.\n",
    "   2. Soustraire `num_two` de `num_one` et affecter la valeur à une variable `diff`.\n",
    "   3. Multipliez le `num_one` et le `num_two` et attribuez la valeur à une variable `produit`.\n",
    "   4. Divisez le `num_one` par le `num_two` et attribuez la valeur à une variable `division`.\n",
    "   5. Calculez `num_one` à la puissance de `num_two` et attribuez la valeur à une variable `exp`."
   ]
  },
  {
   "cell_type": "code",
   "execution_count": null,
   "metadata": {
    "id": "vgqC8ceN7wft"
   },
   "outputs": [],
   "source": []
  },
  {
   "cell_type": "markdown",
   "metadata": {
    "id": "49hvUupv7wft"
   },
   "source": [
    "#### **Exercice 19:**\n",
    ">**Exécutez help('keywords') pour vérifier les mots réservés ou les mots-clés Python.**"
   ]
  },
  {
   "cell_type": "code",
   "execution_count": null,
   "metadata": {
    "id": "cTE5RSBL7wfu"
   },
   "outputs": [],
   "source": []
  },
  {
   "cell_type": "markdown",
   "metadata": {
    "id": "iJaPHdDX7wfv"
   },
   "source": [
    "\n",
    "<center> <b> <span style=\"color:orange;\"> 🎉 FÉLICITATIONS ! 🎉 </span> </b></center>"
   ]
  }
 ],
 "metadata": {
  "colab": {
   "name": "Exercices_00_Variables-Types-Opérations.ipynb",
   "provenance": []
  },
  "kernelspec": {
   "display_name": "Python 3 (ipykernel)",
   "language": "python",
   "name": "python3"
  },
  "language_info": {
   "codemirror_mode": {
    "name": "ipython",
    "version": 3
   },
   "file_extension": ".py",
   "mimetype": "text/x-python",
   "name": "python",
   "nbconvert_exporter": "python",
   "pygments_lexer": "ipython3",
   "version": "3.9.13"
  }
 },
 "nbformat": 4,
 "nbformat_minor": 1
}
