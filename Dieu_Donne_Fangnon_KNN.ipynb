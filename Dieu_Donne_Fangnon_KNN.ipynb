{
  "cells": [
    {
      "cell_type": "markdown",
      "metadata": {
        "id": "view-in-github",
        "colab_type": "text"
      },
      "source": [
        "<a href=\"https://colab.research.google.com/github/dfangnon/dfangnon-My-Python-KNN-Algorithm-from-Scratch/blob/main/Dieu_Donne_Fangnon_KNN.ipynb\" target=\"_parent\"><img src=\"https://colab.research.google.com/assets/colab-badge.svg\" alt=\"Open In Colab\"/></a>"
      ]
    },
    {
      "cell_type": "markdown",
      "metadata": {
        "id": "Y0diQawcxHd7"
      },
      "source": [
        "<img src='https://aims-senegal.org/wp-content/uploads/sites/2/2020/10/aims_senegal.jpg' /></a>"
      ]
    },
    {
      "cell_type": "markdown",
      "metadata": {
        "id": "G3KIXj9BMv_n"
      },
      "source": [
        "This tutorial is inspired by [Assignment 1](https://web.eecs.umich.edu/~justincj/teaching/eecs498/FA2020/assignment1.html) from the \"Deep Learning for Computer Vision EECS 498-007 / 598-005\" Course (University of Michigan).\n",
        "\n"
      ]
    },
    {
      "cell_type": "markdown",
      "metadata": {
        "id": "mPrqBwmhxQS4"
      },
      "source": [
        "# KNN:\n",
        "\n",
        "**K** **N**earest **N**eighbors algorithm is a non-parametric supervised learning method that is used to solve classification and regression tasks.\n",
        "\n",
        "---\n",
        "\n",
        "The KNN algorithm output is calculated based on the k closest training examples.\n",
        "\n",
        "---\n",
        "\n",
        "In classification: the output is a class membership. An object is classified by a majority vote of its neighbors, with the object being assigned to the class most common among its K nearest neighbors (K is a positive integer, typically small). If K = 1, then the object is simply assigned to the class of that single nearest neighbor.\n",
        "\n",
        "---\n",
        "\n",
        "In regression: the output is a continous value for the object. This value is the average of the values of k nearest neighbors.\n",
        "\n",
        "---\n"
      ]
    },
    {
      "cell_type": "markdown",
      "metadata": {
        "id": "lgtMcHSbMBw3"
      },
      "source": [
        "# KNN Classifier:"
      ]
    },
    {
      "cell_type": "markdown",
      "metadata": {
        "id": "aejIgRAixnSG"
      },
      "source": [
        "<img src='https://miro.medium.com/max/1400/0*34SajbTO2C5Lvigs.png' />"
      ]
    },
    {
      "cell_type": "markdown",
      "metadata": {
        "id": "EGs-bieH_xIr"
      },
      "source": [
        "In KNN a commonly used distance function for continuous variables is **Euclidean distance**. For discrete variables, such as for text classification, another metric can be used, such as the **Hamming distance**.\n",
        "\n",
        "\n",
        "\n",
        "---\n",
        "\n"
      ]
    },
    {
      "cell_type": "code",
      "execution_count": null,
      "metadata": {
        "id": "rh7zGMbr0_G9"
      },
      "outputs": [],
      "source": [
        "import matplotlib.pyplot as plt\n",
        "import numpy as np"
      ]
    },
    {
      "cell_type": "markdown",
      "metadata": {
        "id": "yn9gQ7nHzkqT"
      },
      "source": [
        "# Data Generation"
      ]
    },
    {
      "cell_type": "code",
      "source": [
        "?np.seed"
      ],
      "metadata": {
        "colab": {
          "base_uri": "https://localhost:8080/"
        },
        "id": "Y24sFUl1PMT-",
        "outputId": "e64172d1-d8d9-4363-db26-07c8962af0ca"
      },
      "execution_count": null,
      "outputs": [
        {
          "output_type": "stream",
          "name": "stdout",
          "text": [
            "Object `np.seed` not found.\n"
          ]
        }
      ]
    },
    {
      "cell_type": "code",
      "execution_count": null,
      "metadata": {
        "colab": {
          "base_uri": "https://localhost:8080/"
        },
        "id": "u7ITVodazqIj",
        "outputId": "fa1abf51-7b3d-4da0-e18c-a7bea20da2a9"
      },
      "outputs": [
        {
          "output_type": "stream",
          "name": "stdout",
          "text": [
            "(240, 2) (60, 2) (240, 1) (60, 1)\n"
          ]
        }
      ],
      "source": [
        "np.random.seed(0)\n",
        "n = 300\n",
        "X1 = np.random.normal((0,5), 3, (n//3,2))\n",
        "Y1 = np.ones((n//3,1))\n",
        "X2 = np.random.normal((5,0), 3, (n//3,2))\n",
        "Y2 = 0 * np.ones((n//3,1))\n",
        "X3 = np.random.normal((-2,0), 3, (n//3,2))\n",
        "Y3 = 2 * np.ones((n//3,1))\n",
        "\n",
        "X = np.vstack([X1,X2,X3])\n",
        "Y = np.vstack([Y1,Y2,Y3]).astype(int)\n",
        "\n",
        "\n",
        "# shuffle data\n",
        "idx = np.random.permutation(X.shape[0])\n",
        "X, Y = X[idx,:], Y[idx]\n",
        "\n",
        "# train/test split\n",
        "ratio = 0.8 \n",
        "X_train, Y_train = X[:int (ratio*X.shape[0]), :], Y[:int (ratio*X.shape[0]), :]\n",
        "\n",
        "X_test, Y_test = X[int (ratio*X.shape[0]):, :], Y[int (ratio*X.shape[0]):, :]\n",
        "\n",
        "print (X_train.shape, X_test.shape , Y_train.shape, Y_test.shape)"
      ]
    },
    {
      "cell_type": "code",
      "source": [
        "# plot the data\n",
        "plt.scatter(X[:,0], X[:,1], c = Y[:,0])\n",
        "plt.show()"
      ],
      "metadata": {
        "colab": {
          "base_uri": "https://localhost:8080/",
          "height": 265
        },
        "id": "2XRdLfDVD_uW",
        "outputId": "c64b4832-5393-437e-c971-1b31c9b7f7c8"
      },
      "execution_count": null,
      "outputs": [
        {
          "output_type": "display_data",
          "data": {
            "text/plain": [
              "<Figure size 432x288 with 1 Axes>"
            ],
            "image/png": "[encoded data removed]"
          },
          "metadata": {
            "needs_background": "light"
          }
        }
      ]
    },
    {
      "cell_type": "markdown",
      "metadata": {
        "id": "HXSLF3mtMaQc"
      },
      "source": [
        "# Two Loops KNN Implementaion"
      ]
    },
    {
      "cell_type": "code",
      "execution_count": null,
      "metadata": {
        "id": "xXsAq_bTDQtm"
      },
      "outputs": [],
      "source": [
        "def KNN_two_loops(x_train, x_test):\n",
        "  \n",
        "  num_train = x_train.shape[0]\n",
        "  num_test = x_test.shape[0]\n",
        "  dist = np.zeros((num_train, num_test))\n",
        "  ##############################################################################\n",
        "  # TODO: Implement this function using a pair of nested loops over the        #\n",
        "  # training data and the test data.                                           #\n",
        "  ############################################################################## \n",
        "  for i in range(num_train):\n",
        "    for j in range(num_test):\n",
        "      dis = np.linalg.norm((x_train[i],x_test[j])) \n",
        "      dist[i,j] = dis\n",
        "  \n",
        "  ##############################################################################\n",
        "  #                             END OF YOUR CODE                               #\n",
        "  ##############################################################################\n",
        "\n",
        "  \n",
        "  return   dist"
      ]
    },
    {
      "cell_type": "code",
      "execution_count": null,
      "metadata": {
        "id": "mkCs5cua4RWj",
        "colab": {
          "base_uri": "https://localhost:8080/"
        },
        "outputId": "ce2f9b2a-171d-4734-cb69-f3002e8fc592"
      },
      "outputs": [
        {
          "output_type": "execute_result",
          "data": {
            "text/plain": [
              "array([[ 9.69288664,  8.64548137,  5.68729066, ..., 10.07605383,\n",
              "         7.57875355,  9.44767323],\n",
              "       [13.58822416, 12.86204231, 11.09202683, ..., 13.86414963,\n",
              "        12.17067335, 13.41440694],\n",
              "       [10.20787673,  9.21916722,  6.52640567, ..., 10.57239598,\n",
              "         8.22716242,  9.97533084],\n",
              "       ...,\n",
              "       [ 9.7128947 ,  8.66790748,  5.72132388, ..., 10.0953025 ,\n",
              "         7.60432623,  9.46819948],\n",
              "       [12.10736807, 11.28630401,  9.21854572, ..., 12.41624625,\n",
              "        10.49160691, 11.91196203],\n",
              "       [ 9.54456386,  8.47885582,  5.43064663, ...,  9.93345401,\n",
              "         7.38810891,  9.29543852]])"
            ]
          },
          "metadata": {},
          "execution_count": 5
        }
      ],
      "source": [
        "KNN_two_loops(X_train, X_test)"
      ]
    },
    {
      "cell_type": "markdown",
      "source": [
        "##1-Loop Implementation"
      ],
      "metadata": {
        "id": "qYCrPqxNdBvY"
      }
    },
    {
      "cell_type": "code",
      "source": [
        "def KNN_one_loop(x_train, x_test):\n",
        "  num_train = x_train.shape[0]\n",
        "  num_test = x_test.shape[0]\n",
        "  dist = np.zeros((num_train, num_test))\n",
        "  ##YOUR CODE HERE \n",
        "  ## Hint : use broadcasting to compute the difference between each example in x-_train and the x_test array\n",
        "\n",
        "  for i in range(num_train):\n",
        "    dist[i,:] = np.linalg.norm((x_train[i,:]-x_test), axis =1) \n",
        "\n",
        "  return dist"
      ],
      "metadata": {
        "id": "xX2GxB_CdFyy"
      },
      "execution_count": null,
      "outputs": []
    },
    {
      "cell_type": "code",
      "source": [
        "KNN_one_loop(X_train, X_test)"
      ],
      "metadata": {
        "colab": {
          "base_uri": "https://localhost:8080/"
        },
        "id": "6DaJDnxSC2HU",
        "outputId": "ef2487fe-f716-4c92-c5f2-1534ef83c86a"
      },
      "execution_count": null,
      "outputs": [
        {
          "output_type": "execute_result",
          "data": {
            "text/plain": [
              "array([[ 9.22499002,  9.43688888,  4.45988504, ...,  6.02873014,\n",
              "         4.05519998, 12.32979812],\n",
              "       [ 5.96568351, 17.25128968,  9.04490409, ...,  2.68911816,\n",
              "        12.6815975 , 13.07981838],\n",
              "       [ 3.54221856, 12.57900149,  5.44926651, ...,  8.09014269,\n",
              "        11.2885241 ,  3.91356141],\n",
              "       ...,\n",
              "       [ 2.68086224, 12.17517788,  3.886988  , ...,  5.37043059,\n",
              "         9.60627571,  6.59419792],\n",
              "       [14.06002988,  9.77798144,  8.83992965, ..., 10.19855083,\n",
              "         4.2708772 , 16.6601789 ],\n",
              "       [ 4.59504603, 11.26644245,  4.5833262 , ...,  8.40784115,\n",
              "        10.29062118,  3.6725146 ]])"
            ]
          },
          "metadata": {},
          "execution_count": 7
        }
      ]
    },
    {
      "cell_type": "markdown",
      "metadata": {
        "id": "xYMo4OeRuhir"
      },
      "source": [
        "#KNN Vectorized Implementation(No Loop)"
      ]
    },
    {
      "cell_type": "code",
      "source": [
        "def KNN(X_train, X_test):\n",
        "  '''\n",
        "    X_train: (n_tr_samples, n_features)\n",
        "    X_test: (n_ts_samples, n_features)\n",
        "\n",
        "  '''\n",
        "  num_train = X_train.shape[0]\n",
        "  num_test = X_test.shape[0]\n",
        "  dist = np.zeros((num_train, num_test))\n",
        "\n",
        "    \n",
        "  ##############################################################################\n",
        "  # TODO: Implement this function without loop. #HINT: Try to formulate \n",
        "\n",
        "  # the Euclidean distance using two broadcast sums and a matrix multiply.\n",
        "  ##############################################################################\n",
        "  x = np.sum(X_train**2, axis = 1)\n",
        "  y = np.sum(X_test**2, axis = 1)\n",
        "  X_trainX_test = np.matmul (X_train, X_test.T)\n",
        "  x = x.reshape(-1, 1)\n",
        "  dist = np.sqrt(x - 2 * X_trainX_test + y)\n",
        "    \n",
        "  ##############################################################################\n",
        "  #                             END OF YOUR CODE                               #\n",
        "  ##############################################################################\n",
        "  return dist"
      ],
      "metadata": {
        "id": "k6vifD-e6Sur"
      },
      "execution_count": null,
      "outputs": []
    },
    {
      "cell_type": "code",
      "source": [
        "?np.matmul"
      ],
      "metadata": {
        "id": "fDgl650WyS_7"
      },
      "execution_count": null,
      "outputs": []
    },
    {
      "cell_type": "code",
      "source": [
        "a = np.ones([9, 5, 7, 4])\n",
        "a.shape"
      ],
      "metadata": {
        "colab": {
          "base_uri": "https://localhost:8080/"
        },
        "id": "NX8Ps3zQzSRZ",
        "outputId": "aeb62238-2856-4dc9-a915-b702073cea2b"
      },
      "execution_count": null,
      "outputs": [
        {
          "output_type": "execute_result",
          "data": {
            "text/plain": [
              "(9, 5, 7, 4)"
            ]
          },
          "metadata": {},
          "execution_count": 5
        }
      ]
    },
    {
      "cell_type": "code",
      "execution_count": null,
      "metadata": {
        "id": "dnsRWqppujW4",
        "colab": {
          "base_uri": "https://localhost:8080/"
        },
        "outputId": "286d7716-9218-43d3-fa6a-7804276cf6a4"
      },
      "outputs": [
        {
          "output_type": "execute_result",
          "data": {
            "text/plain": [
              "array([[ 9.22499002,  9.43688888,  4.45988504, ...,  6.02873014,\n",
              "         4.05519998, 12.32979812],\n",
              "       [ 5.96568351, 17.25128968,  9.04490409, ...,  2.68911816,\n",
              "        12.6815975 , 13.07981838],\n",
              "       [ 3.54221856, 12.57900149,  5.44926651, ...,  8.09014269,\n",
              "        11.2885241 ,  3.91356141],\n",
              "       ...,\n",
              "       [ 2.68086224, 12.17517788,  3.886988  , ...,  5.37043059,\n",
              "         9.60627571,  6.59419792],\n",
              "       [14.06002988,  9.77798144,  8.83992965, ..., 10.19855083,\n",
              "         4.2708772 , 16.6601789 ],\n",
              "       [ 4.59504603, 11.26644245,  4.5833262 , ...,  8.40784115,\n",
              "        10.29062118,  3.6725146 ]])"
            ]
          },
          "metadata": {},
          "execution_count": 46
        }
      ],
      "source": [
        "dist = KNN(X_train, X_test)\n",
        "dist"
      ]
    },
    {
      "cell_type": "markdown",
      "metadata": {
        "id": "mjYxz9q6uoYA"
      },
      "source": [
        "##Test the difference in values"
      ]
    },
    {
      "cell_type": "code",
      "execution_count": null,
      "metadata": {
        "colab": {
          "base_uri": "https://localhost:8080/"
        },
        "id": "nOa84mZ4MoM1",
        "outputId": "1dcba1c9-9395-4322-f72a-973cf96c7a63"
      },
      "outputs": [
        {
          "output_type": "stream",
          "name": "stdout",
          "text": [
            "Difference:  70.59272986969144\n",
            "Uh-oh! The distance matrices are different\n"
          ]
        }
      ],
      "source": [
        "np.random.seed(0)\n",
        "x_train_rand = np.random.randn(100, 3*32*32)\n",
        "x_test_rand = np.random.randn(100, 3*32*32)\n",
        "\n",
        "dists_two = KNN_two_loops(x_train_rand, x_test_rand, )\n",
        "dists_none = KNN(x_train_rand, x_test_rand,)\n",
        "difference = np.sqrt(np.sum(np.power((dists_two - dists_none), 2)))\n",
        "print('Difference: ', difference)\n",
        "if difference < 1e-4:\n",
        "  print('Good! The distance matrices match')\n",
        "else:\n",
        "  print('Uh-oh! The distance matrices are different') "
      ]
    },
    {
      "cell_type": "markdown",
      "metadata": {
        "id": "OIf0NwQRMfaH"
      },
      "source": [
        "# Loops vs Vectorization: Speed Test"
      ]
    },
    {
      "cell_type": "code",
      "execution_count": null,
      "metadata": {
        "colab": {
          "base_uri": "https://localhost:8080/"
        },
        "id": "aggCRtJTFMwi",
        "outputId": "d4dba117-9769-4497-a12d-9ba78c1884e5"
      },
      "outputs": [
        {
          "output_type": "stream",
          "name": "stdout",
          "text": [
            "108 µs ± 21.8 µs per loop (mean ± std. dev. of 7 runs, 10000 loops each)\n"
          ]
        }
      ],
      "source": [
        "%timeit  KNN(X_train, X_test)\n"
      ]
    },
    {
      "cell_type": "code",
      "execution_count": null,
      "metadata": {
        "colab": {
          "base_uri": "https://localhost:8080/"
        },
        "id": "4zmiw-j3LT2n",
        "outputId": "445c74ab-b603-4fc7-ce07-d511e962f3e0"
      },
      "outputs": [
        {
          "output_type": "stream",
          "name": "stdout",
          "text": [
            "126 ms ± 29.1 ms per loop (mean ± std. dev. of 7 runs, 10 loops each)\n"
          ]
        }
      ],
      "source": [
        "%timeit  KNN_two_loops(X_train, X_test)"
      ]
    },
    {
      "cell_type": "markdown",
      "metadata": {
        "id": "AGMJIhFFqWVa"
      },
      "source": [
        "#Predict Labels"
      ]
    },
    {
      "cell_type": "code",
      "source": [
        "from statistics import mode"
      ],
      "metadata": {
        "id": "gunMGtEo02EJ"
      },
      "execution_count": null,
      "outputs": []
    },
    {
      "cell_type": "code",
      "execution_count": null,
      "metadata": {
        "id": "DvQvxZaHlXJ2"
      },
      "outputs": [],
      "source": [
        "def predict_labels(dists, Y_train, k=1):\n",
        "  num_train = Y_train.shape[0]\n",
        "  y_pred = np.zeros((dists.shape[1],1))\n",
        "  \n",
        "  \"\"\"\n",
        "  Given distances between all pairs of training and test samples, predict a\n",
        "  label for each test sample by taking a **majority vote** among its k nearest\n",
        "  neighbors in the training set.\n",
        "\n",
        "\n",
        "  Inputs:\n",
        "  - dists: array of shape (num_train, num_test) where dists[i, j] is the\n",
        "    squared Euclidean distance between the ith training point and the jth test\n",
        "    point.\n",
        "  - y_train: array shape (num_train,) giving labels for all training\n",
        "    samples. Each label is an integer in the range [0, num_classes - 1]\n",
        "  - k: The number of nearest neighbors to use for classification.\n",
        "\n",
        "  Returns:\n",
        "  - y_pred: array of shape (num_test,) giving predicted labels\n",
        "    for the test data, where y_pred[j] is the predicted label for the jth test\n",
        "    example. Each label should be an integer in the range [0, num_classes - 1].\n",
        "  \"\"\"\n",
        "  \n",
        "\n",
        "\n",
        "  ##############################################################################\n",
        "  for i in range(dists.shape[1]):\n",
        "    #dists = KNN_one_loop(X_train, X_test)\n",
        "    dis = np.argsort(dists[:,i])[:k]\n",
        "    label = Y_train[dis]\n",
        "    labelsta = np.hstack(label)\n",
        "    y_pred[i] = mode(labelsta)\n",
        "\n",
        "  #                             END OF YOUR CODE                               #\n",
        "  ##############################################################################\n",
        "  \n",
        "  return y_pred   \n",
        "\n",
        "\n"
      ]
    },
    {
      "cell_type": "code",
      "source": [],
      "metadata": {
        "id": "YzrHkyvx1HjG"
      },
      "execution_count": null,
      "outputs": []
    },
    {
      "cell_type": "markdown",
      "metadata": {
        "id": "lO-DO5CMoprd"
      },
      "source": [
        "###Test your predict label method"
      ]
    },
    {
      "cell_type": "code",
      "source": [
        "dists = KNN_two_loops(X_train, X_test)\n",
        "predict_labels(dists, Y_train, k=1).shape"
      ],
      "metadata": {
        "colab": {
          "base_uri": "https://localhost:8080/"
        },
        "id": "KumjNW08UgAN",
        "outputId": "19950bbd-f915-4293-e570-d461631d8c11"
      },
      "execution_count": null,
      "outputs": [
        {
          "output_type": "execute_result",
          "data": {
            "text/plain": [
              "(60, 1)"
            ]
          },
          "metadata": {},
          "execution_count": 43
        }
      ]
    },
    {
      "cell_type": "code",
      "source": [
        "dists = np.array([\n",
        "    [0.3, 0.4, 0.1],\n",
        "    [0.1, 0.5, 0.5],\n",
        "    [0.4, 0.1, 0.2],\n",
        "    [0.2, 0.2, 0.4],\n",
        "    [0.5, 0.3, 0.3],\n",
        "])\n",
        "y_train2 = np.array([0, 1, 0, 1, 2]).reshape(-1,1)\n",
        "y_pred_expected2 =np.array([1, 0, 0]).reshape(-1,1)\n",
        "y_pred2 = predict_labels(dists, y_train2, k=3)\n",
        "correct = y_pred2.tolist() == y_pred_expected2.tolist()\n",
        "print('Correct: ', correct)"
      ],
      "metadata": {
        "colab": {
          "base_uri": "https://localhost:8080/"
        },
        "id": "aY1FAiM9Uvtb",
        "outputId": "cf8b3407-8980-4d6a-ef2e-3f9f5a41fbc1"
      },
      "execution_count": null,
      "outputs": [
        {
          "output_type": "stream",
          "name": "stdout",
          "text": [
            "Correct:  True\n"
          ]
        }
      ]
    },
    {
      "cell_type": "code",
      "source": [],
      "metadata": {
        "id": "lXDyR2GlUv1d"
      },
      "execution_count": null,
      "outputs": []
    },
    {
      "cell_type": "code",
      "execution_count": null,
      "metadata": {
        "colab": {
          "base_uri": "https://localhost:8080/"
        },
        "id": "RpnVPvfE8L9k",
        "outputId": "ddd0301d-11a5-4f5e-c778-7f725af01ace"
      },
      "outputs": [
        {
          "output_type": "execute_result",
          "data": {
            "text/plain": [
              "(60, 1)"
            ]
          },
          "metadata": {},
          "execution_count": 49
        }
      ],
      "source": [
        "dists = KNN_two_loops(X_train, X_test)\n",
        "predict_labels(dists, Y_train, k=1).shape\n"
      ]
    },
    {
      "cell_type": "code",
      "execution_count": null,
      "metadata": {
        "colab": {
          "base_uri": "https://localhost:8080/"
        },
        "id": "sID3wv6Uos6H",
        "outputId": "74b4f040-ddac-4e89-a6dc-0d38380e00eb"
      },
      "outputs": [
        {
          "output_type": "stream",
          "name": "stdout",
          "text": [
            "Correct:  True\n"
          ]
        }
      ],
      "source": [
        "dists = np.array([\n",
        "    [0.3, 0.4, 0.1],\n",
        "    [0.1, 0.5, 0.5],\n",
        "    [0.4, 0.1, 0.2],\n",
        "    [0.2, 0.2, 0.4],\n",
        "    [0.5, 0.3, 0.3],\n",
        "])\n",
        "y_train2 = np.array([0, 1, 0, 1, 2]).reshape(-1,1)\n",
        "y_pred_expected2 =np.array([1, 0, 0]).reshape(-1,1)\n",
        "y_pred2 = predict_labels(dists, y_train2, k=3)\n",
        "correct = y_pred2.tolist() == y_pred_expected2.tolist()\n",
        "print('Correct: ', correct)"
      ]
    },
    {
      "cell_type": "markdown",
      "metadata": {
        "id": "V05obfn7o3-0"
      },
      "source": [
        "#Build complete KNN classifier "
      ]
    },
    {
      "cell_type": "code",
      "source": [
        "  \n",
        "class KnnClassifier:\n",
        "  def __init__(self, x_train, y_train):\n",
        "    \"\"\"\n",
        "    Create a new K-Nearest Neighbor classifier with the specified training data.\n",
        "    In the initializer we simply memorize the provided training data.\n",
        "\n",
        "    Inputs:\n",
        "    - x_train:  training data\n",
        "    - y_train:  training labels\n",
        "    \"\"\"\n",
        "    ###########################################################################\n",
        "    # TODO: Implement the initializer for this class. It should perform no    #\n",
        "    # computation and simply memorize the training data.                      #\n",
        "    ###########################################################################\n",
        "    self.x_train=x_train\n",
        "    self.y_train=y_train\n",
        "\n",
        "    ###########################################################################\n",
        "    #                           END OF YOUR CODE                              #\n",
        "    ###########################################################################\n",
        "\n",
        "  \n",
        "  def predict(self, x_test, k=1):\n",
        "    \"\"\"\n",
        "    Make predictions using the classifier.Use your predict label and KNN functions defined before\n",
        "\n",
        "    Inputs:\n",
        "    - x_test:  test samples\n",
        "    - k: The number of neighbors to use for predictions\n",
        "\n",
        "    Returns:\n",
        "    - y_test_pred: array of shape (num_test,) giving predicted labels\n",
        "      for the test samples.\n",
        "    \"\"\"\n",
        "    y_test_pred = np.zeros(x_test.shape[0])\n",
        "    ###########################################################################\n",
        "    # TODO: Implement this method. You should use the functions you wrote     #\n",
        "    # above for computing distances (use the no-loop variant) and to predict  #\n",
        "    # output labels.\n",
        "  \n",
        "    ###########################################################################\n",
        "    dists = KNN(self.x_train, x_test)\n",
        "    y_test_pred = predict_labels(dists, self.y_train, k)\n",
        "    return y_test_pred\n",
        "  \n",
        "    ###########################################################################\n",
        "    #                           END OF YOUR CODE                              #\n",
        "    ###########################################################################\n",
        "   \n",
        "\n",
        "  def check_accuracy(self, x_test, y_test, k=1):\n",
        "    \"\"\"\n",
        "    Utility method for checking the accuracy of this classifier on test data.\n",
        "    Returns the accuracy of the classifier on the test data, and also prints a\n",
        "    message giving the accuracy.\n",
        "\n",
        "    Inputs:\n",
        "    - x_test:  test samples\n",
        "    - y_test: test labels\n",
        "    - k: The number of neighbors to use for prediction\n",
        "   \n",
        "    Returns:\n",
        "    - accuracy: Accuracy of this classifier on the test data, as a percent.\n",
        "      Python float in the range [0, 100]\n",
        "    \"\"\"\n",
        "    ############################################################################\n",
        "    # TODO: Implement this method. \n",
        "    ###########################################################################\n",
        "    ypred = self.predict(x_test, k)\n",
        "    acc = np.mean(ypred == y_test)*100\n",
        "    return acc"
      ],
      "metadata": {
        "id": "hpbdmWeW64k8"
      },
      "execution_count": null,
      "outputs": []
    },
    {
      "cell_type": "markdown",
      "metadata": {
        "id": "XUPiSqpdpNBT"
      },
      "source": [
        "## Compute accuracy on the test data"
      ]
    },
    {
      "cell_type": "code",
      "execution_count": null,
      "metadata": {
        "id": "kJgyd8JxpRCz",
        "colab": {
          "base_uri": "https://localhost:8080/"
        },
        "outputId": "1c72ff3a-d36d-451a-b6bb-cdd426fad3ac"
      },
      "outputs": [
        {
          "output_type": "execute_result",
          "data": {
            "text/plain": [
              "80.0"
            ]
          },
          "metadata": {},
          "execution_count": 59
        }
      ],
      "source": [
        "classifier = KnnClassifier(X_train, Y_train)\n",
        "classifier.check_accuracy(X_test, Y_test, k=8)"
      ]
    },
    {
      "cell_type": "code",
      "execution_count": null,
      "metadata": {
        "id": "8vac_xEzGmgx",
        "colab": {
          "base_uri": "https://localhost:8080/"
        },
        "outputId": "92d0cf19-fbc3-4c7b-c50b-21ca90e07ebe"
      },
      "outputs": [
        {
          "output_type": "stream",
          "name": "stderr",
          "text": [
            "<ipython-input-45-982e440c7df3>:21: RuntimeWarning: invalid value encountered in sqrt\n",
            "  dist = np.sqrt(x - 2 * X_trainX_test + y)\n"
          ]
        }
      ],
      "source": [
        "test_accuracy = [classifier.check_accuracy(X_test, Y_test, k=i) for i in range(1, 20)]\n",
        "train_accuracy = [classifier.check_accuracy(X_train, Y_train, k=i) for i in range(1, 20)]\n"
      ]
    },
    {
      "cell_type": "code",
      "source": [
        "classifier.check_accuracy(X_train, Y_train, k=1)"
      ],
      "metadata": {
        "id": "5It033iEDyeJ",
        "colab": {
          "base_uri": "https://localhost:8080/"
        },
        "outputId": "bbe0b9e4-37fb-4fcb-a5d5-873c661cfa2e"
      },
      "execution_count": null,
      "outputs": [
        {
          "output_type": "stream",
          "name": "stderr",
          "text": [
            "<ipython-input-45-982e440c7df3>:21: RuntimeWarning: invalid value encountered in sqrt\n",
            "  dist = np.sqrt(x - 2 * X_trainX_test + y)\n"
          ]
        },
        {
          "output_type": "execute_result",
          "data": {
            "text/plain": [
              "95.83333333333334"
            ]
          },
          "metadata": {},
          "execution_count": 63
        }
      ]
    },
    {
      "cell_type": "code",
      "execution_count": null,
      "metadata": {
        "colab": {
          "base_uri": "https://localhost:8080/",
          "height": 295
        },
        "id": "TL6InmnRJXjM",
        "outputId": "40a19177-5780-4a0c-cd69-7e72452d98a5"
      },
      "outputs": [
        {
          "output_type": "display_data",
          "data": {
            "text/plain": [
              "<Figure size 432x288 with 1 Axes>"
            ],
            "image/png": "[encoded data removed]"
          },
          "metadata": {
            "needs_background": "light"
          }
        }
      ],
      "source": [
        "plt.plot(train_accuracy, label=\"train accuracy\")\n",
        "plt.plot(test_accuracy, label=\"test accuracy\")\n",
        "plt.xlabel(\"K\")\n",
        "plt.ylabel(\"Accuracy\")\n",
        "plt.title(\"Train & Test accuracies vs K\")\n",
        "plt.legend()\n",
        "plt.show()"
      ]
    },
    {
      "cell_type": "markdown",
      "source": [
        "## What is the value of K that gives the best test accuracy?"
      ],
      "metadata": {
        "id": "uYpcJwyv8xXo"
      }
    },
    {
      "cell_type": "code",
      "source": [
        "###########################################################################\n",
        "    # TODO: write a code that returns the value of K which has the highest     #\n",
        "    # test accuracy                     \n",
        "    ###########################################################################\n",
        "best_K = np.argmax(test_accuracy)+1\n",
        "best_K\n",
        "\n",
        "    ###########################################################################\n",
        "    #                           END OF YOUR CODE                              #\n",
        "    ###########################################################################"
      ],
      "metadata": {
        "id": "Jrq4QI-ACrZQ",
        "colab": {
          "base_uri": "https://localhost:8080/"
        },
        "outputId": "4c481fb6-b9ca-43f6-fa44-574b1e8e538f"
      },
      "execution_count": null,
      "outputs": [
        {
          "output_type": "execute_result",
          "data": {
            "text/plain": [
              "10"
            ]
          },
          "metadata": {},
          "execution_count": 65
        }
      ]
    },
    {
      "cell_type": "markdown",
      "source": [
        "## KNN Advantages\n"
      ],
      "metadata": {
        "id": "pf76nZ647zHv"
      }
    },
    {
      "cell_type": "markdown",
      "source": [
        "## KNN Disadvantages"
      ],
      "metadata": {
        "id": "57i_MTdL8N3C"
      }
    },
    {
      "cell_type": "markdown",
      "source": [
        "## How to select the value of k"
      ],
      "metadata": {
        "id": "CJ0yyuPu8SgN"
      }
    },
    {
      "cell_type": "markdown",
      "source": [
        "# KNN demo\n"
      ],
      "metadata": {
        "id": "TKi_DJEBAbzs"
      }
    },
    {
      "cell_type": "markdown",
      "source": [
        "Try this website (http://vision.stanford.edu/teaching/cs231n-demos/knn/) for an interactive demo of the K-Nearest Neighbours Algorithm. "
      ],
      "metadata": {
        "id": "2biPKMqXAEGW"
      }
    },
    {
      "cell_type": "markdown",
      "source": [
        "# Excercise"
      ],
      "metadata": {
        "id": "-GsDUcjd9KiL"
      }
    },
    {
      "cell_type": "markdown",
      "source": [
        "Use the previous implementation of  the K-Nearest Neighbors (KNN) algorithm on the IRIS dataset. Divide the data into training and testing sets, using 80% of the data for training and 20% for testing. Experiment with various values of k (the number of neighbors) and plot the test accuracy for each value of K."
      ],
      "metadata": {
        "id": "qyN89H5l9Mt1"
      }
    },
    {
      "cell_type": "code",
      "source": [
        "from sklearn.datasets import load_iris"
      ],
      "metadata": {
        "id": "STz3VzLa9L89"
      },
      "execution_count": null,
      "outputs": []
    },
    {
      "cell_type": "code",
      "source": [
        "iris_dataset = load_iris()"
      ],
      "metadata": {
        "id": "l2CTkyWZ9YMi"
      },
      "execution_count": null,
      "outputs": []
    },
    {
      "cell_type": "code",
      "source": [
        "X,Y = iris_dataset.data, iris_dataset.target\n",
        "X.shape, Y.shape"
      ],
      "metadata": {
        "colab": {
          "base_uri": "https://localhost:8080/"
        },
        "id": "Q7xiXvX69ozO",
        "outputId": "55712dfe-6d3c-4102-ddb9-a1728bf8dc0d"
      },
      "execution_count": null,
      "outputs": [
        {
          "output_type": "execute_result",
          "data": {
            "text/plain": [
              "((150, 4), (150,))"
            ]
          },
          "metadata": {},
          "execution_count": 33
        }
      ]
    },
    {
      "cell_type": "code",
      "source": [
        "# Split the data into train and test "
      ],
      "metadata": {
        "id": "EUKIE4Kv9qnj"
      },
      "execution_count": null,
      "outputs": []
    },
    {
      "cell_type": "code",
      "source": [
        "# Train your KNN Classifier"
      ],
      "metadata": {
        "id": "DhRbnKEDBo4P"
      },
      "execution_count": null,
      "outputs": []
    },
    {
      "cell_type": "code",
      "source": [
        "# Evaluate on the test set. Try different values for K "
      ],
      "metadata": {
        "id": "aA_ZjOcCBxd2"
      },
      "execution_count": null,
      "outputs": []
    },
    {
      "cell_type": "code",
      "source": [
        "# Plot the test accuracy"
      ],
      "metadata": {
        "id": "frW6V8uhCDvN"
      },
      "execution_count": null,
      "outputs": []
    },
    {
      "cell_type": "code",
      "source": [],
      "metadata": {
        "id": "_UscHY6tCIjM"
      },
      "execution_count": null,
      "outputs": []
    }
  ],
  "metadata": {
    "accelerator": "GPU",
    "colab": {
      "provenance": [],
      "include_colab_link": true
    },
    "kernelspec": {
      "display_name": "Python 3",
      "name": "python3"
    },
    "language_info": {
      "name": "python"
    }
  },
  "nbformat": 4,
  "nbformat_minor": 0
}